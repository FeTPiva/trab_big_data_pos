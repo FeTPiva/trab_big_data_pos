{
  "nbformat": 4,
  "nbformat_minor": 0,
  "metadata": {
    "colab": {
      "name": "proj big data - polaridade trump tweets  com Vader.ipynb",
      "provenance": [],
      "toc_visible": true,
      "include_colab_link": true
    },
    "kernelspec": {
      "name": "python3",
      "display_name": "Python 3"
    }
  },
  "cells": [
    {
      "cell_type": "markdown",
      "metadata": {
        "id": "view-in-github",
        "colab_type": "text"
      },
      "source": [
        "<a href=\"https://colab.research.google.com/github/FeTPiva/trab_big_data_pos/blob/main/proj_big_data_polaridade_trump_tweets_com_Vader.ipynb\" target=\"_parent\"><img src=\"https://colab.research.google.com/assets/colab-badge.svg\" alt=\"Open In Colab\"/></a>"
      ]
    },
    {
      "cell_type": "markdown",
      "metadata": {
        "id": "WSjfzugvdVzy"
      },
      "source": [
        "# Apache Spark - Utilização do Spark"
      ]
    },
    {
      "cell_type": "code",
      "metadata": {
        "id": "oTOJLkItK5L5"
      },
      "source": [
        "#link do dataset\n",
        "#https://www.reddit.com/r/datasets/comments/gxsdqk/archive_of_43475_donald_trump_twitter_screenshots/\n",
        "#versão só textos ~ https://drive.google.com/file/d/1HE_ezCVWG7JSy5fDSASAmrkmUUbPpWAC/view"
      ],
      "execution_count": null,
      "outputs": []
    },
    {
      "cell_type": "code",
      "metadata": {
        "colab": {
          "base_uri": "https://localhost:8080/"
        },
        "id": "2F7Na_naKOnG",
        "outputId": "0f94ad8c-c7c3-42da-f692-bc602c244588"
      },
      "source": [
        "from google.colab import drive\n",
        "drive.mount('/content/drive')"
      ],
      "execution_count": 1,
      "outputs": [
        {
          "output_type": "stream",
          "text": [
            "Mounted at /content/drive\n"
          ],
          "name": "stdout"
        }
      ]
    },
    {
      "cell_type": "code",
      "metadata": {
        "colab": {
          "base_uri": "https://localhost:8080/"
        },
        "id": "mrPuGScUKcOj",
        "outputId": "323fc74d-3848-400a-e7fb-b8b920c99c97"
      },
      "source": [
        "#Instalação do Spark\n",
        "!pip install pyspark"
      ],
      "execution_count": 2,
      "outputs": [
        {
          "output_type": "stream",
          "text": [
            "Collecting pyspark\n",
            "\u001b[?25l  Downloading https://files.pythonhosted.org/packages/f0/26/198fc8c0b98580f617cb03cb298c6056587b8f0447e20fa40c5b634ced77/pyspark-3.0.1.tar.gz (204.2MB)\n",
            "\u001b[K     |████████████████████████████████| 204.2MB 42kB/s \n",
            "\u001b[?25hCollecting py4j==0.10.9\n",
            "\u001b[?25l  Downloading https://files.pythonhosted.org/packages/9e/b6/6a4fb90cd235dc8e265a6a2067f2a2c99f0d91787f06aca4bcf7c23f3f80/py4j-0.10.9-py2.py3-none-any.whl (198kB)\n",
            "\u001b[K     |████████████████████████████████| 204kB 45.6MB/s \n",
            "\u001b[?25hBuilding wheels for collected packages: pyspark\n",
            "  Building wheel for pyspark (setup.py) ... \u001b[?25l\u001b[?25hdone\n",
            "  Created wheel for pyspark: filename=pyspark-3.0.1-py2.py3-none-any.whl size=204612243 sha256=270247ce823c5d216cb9b7011a2a28e35fc3e1695c2eb1af326497a4a7c1c997\n",
            "  Stored in directory: /root/.cache/pip/wheels/5e/bd/07/031766ca628adec8435bb40f0bd83bb676ce65ff4007f8e73f\n",
            "Successfully built pyspark\n",
            "Installing collected packages: py4j, pyspark\n",
            "Successfully installed py4j-0.10.9 pyspark-3.0.1\n"
          ],
          "name": "stdout"
        }
      ]
    },
    {
      "cell_type": "code",
      "metadata": {
        "id": "amYcSU-idqUf"
      },
      "source": [
        "from pyspark.sql import SparkSession\n",
        "spark = SparkSession.builder.appName(\"uso-do-spark\").getOrCreate()"
      ],
      "execution_count": 3,
      "outputs": []
    },
    {
      "cell_type": "code",
      "metadata": {
        "id": "T-xetGaxen-h"
      },
      "source": [
        "#Carrega o dataframe com os dados\n",
        "df = spark.read.csv(\"/content/drive/MyDrive/pos/big/tweets_11-06-2020.csv\", inferSchema=True, header=True)"
      ],
      "execution_count": 4,
      "outputs": []
    },
    {
      "cell_type": "code",
      "metadata": {
        "colab": {
          "base_uri": "https://localhost:8080/"
        },
        "id": "Zb4auTYof-P6",
        "outputId": "5eb88e5c-76d7-4ce3-8112-db469d177ff5"
      },
      "source": [
        "df.printSchema()\n"
      ],
      "execution_count": 5,
      "outputs": [
        {
          "output_type": "stream",
          "text": [
            "root\n",
            " |-- id: string (nullable = true)\n",
            " |-- text: string (nullable = true)\n",
            " |-- isRetweet: string (nullable = true)\n",
            " |-- isDeleted: string (nullable = true)\n",
            " |-- device: string (nullable = true)\n",
            " |-- favorites: string (nullable = true)\n",
            " |-- retweets: string (nullable = true)\n",
            " |-- date: string (nullable = true)\n",
            "\n"
          ],
          "name": "stdout"
        }
      ]
    },
    {
      "cell_type": "code",
      "metadata": {
        "colab": {
          "base_uri": "https://localhost:8080/"
        },
        "id": "OfultVq5gFRI",
        "outputId": "630408f1-ebba-4bb7-c819-25fc71b02b5c"
      },
      "source": [
        "df.show(n=5)"
      ],
      "execution_count": 6,
      "outputs": [
        {
          "output_type": "stream",
          "text": [
            "+-------------------+--------------------+---------+---------+------------------+---------+--------+-------------------+\n",
            "|                 id|                text|isRetweet|isDeleted|            device|favorites|retweets|               date|\n",
            "+-------------------+--------------------+---------+---------+------------------+---------+--------+-------------------+\n",
            "|  98454970654916608|Republicans and D...|        f|        f|         TweetDeck|       49|     255|2011-08-02 18:07:48|\n",
            "|1234653427789070336|I was thrilled to...|        f|        f|Twitter for iPhone|    73748|   17404|2020-03-03 01:34:50|\n",
            "|1218010753434820614|RT @CBS_Herridge:...|        t|        f|Twitter for iPhone|        0|    7396|2020-01-17 03:22:47|\n",
            "|1304875170860015617|The Unsolicited M...|        f|        f|Twitter for iPhone|    80527|   23502|2020-09-12 20:10:58|\n",
            "|1218159531554897920|RT @MZHemingway: ...|        t|        f|Twitter for iPhone|        0|    9081|2020-01-17 13:13:59|\n",
            "+-------------------+--------------------+---------+---------+------------------+---------+--------+-------------------+\n",
            "only showing top 5 rows\n",
            "\n"
          ],
          "name": "stdout"
        }
      ]
    },
    {
      "cell_type": "code",
      "metadata": {
        "colab": {
          "base_uri": "https://localhost:8080/"
        },
        "id": "v1Edy-wDgXgT",
        "outputId": "0fd91f47-bb07-420d-c770-f0475528abfb"
      },
      "source": [
        "df.describe().show()"
      ],
      "execution_count": 7,
      "outputs": [
        {
          "output_type": "stream",
          "text": [
            "+-------+--------------------+--------------------+--------------------+--------------------+--------------------+--------------------+-------------------+--------------------+\n",
            "|summary|                  id|                text|           isRetweet|           isDeleted|              device|           favorites|           retweets|                date|\n",
            "+-------+--------------------+--------------------+--------------------+--------------------+--------------------+--------------------+-------------------+--------------------+\n",
            "|  count|               55090|               55090|               55083|               55084|               55086|               55086|              55087|               55088|\n",
            "|   mean|7.843718978093134...|                null|   761.8461538461538|   298.8333333333333|               266.5|  27520.781352891307|   8094.24305310638|   2075.260570304818|\n",
            "| stddev|3.774074382608727...|                null|   767.6749362147416|   461.4674058551337|   376.8879143724298|  52238.330749075576|  12332.60283724062|  11882.641498898458|\n",
            "|    min| 1000061992042975232| @SpencerLJackson...|      DonaldTrump\"\"\"|  I'll vote for y...| \"\"\"\"Kiss Me Kate...| #HappyFathersDay...|               &amp|       thank you!\"\"\"|\n",
            "|    max|While Democrats a...|🇺🇸🇮🇹 https://...|👊 impression.\"\"\"...|” and \"\"\"\"biparti...|                  …\"|you still have my...|your not a Governor|you are the maxim...|\n",
            "+-------+--------------------+--------------------+--------------------+--------------------+--------------------+--------------------+-------------------+--------------------+\n",
            "\n"
          ],
          "name": "stdout"
        }
      ]
    },
    {
      "cell_type": "code",
      "metadata": {
        "colab": {
          "base_uri": "https://localhost:8080/"
        },
        "id": "d_tzy5iIichl",
        "outputId": "2b01ff99-6c5a-44f2-bc46-b3ef036fe5bb"
      },
      "source": [
        "df.show()"
      ],
      "execution_count": 8,
      "outputs": [
        {
          "output_type": "stream",
          "text": [
            "+-------------------+--------------------+---------+---------+------------------+---------+--------+-------------------+\n",
            "|                 id|                text|isRetweet|isDeleted|            device|favorites|retweets|               date|\n",
            "+-------------------+--------------------+---------+---------+------------------+---------+--------+-------------------+\n",
            "|  98454970654916608|Republicans and D...|        f|        f|         TweetDeck|       49|     255|2011-08-02 18:07:48|\n",
            "|1234653427789070336|I was thrilled to...|        f|        f|Twitter for iPhone|    73748|   17404|2020-03-03 01:34:50|\n",
            "|1218010753434820614|RT @CBS_Herridge:...|        t|        f|Twitter for iPhone|        0|    7396|2020-01-17 03:22:47|\n",
            "|1304875170860015617|The Unsolicited M...|        f|        f|Twitter for iPhone|    80527|   23502|2020-09-12 20:10:58|\n",
            "|1218159531554897920|RT @MZHemingway: ...|        t|        f|Twitter for iPhone|        0|    9081|2020-01-17 13:13:59|\n",
            "|1217962723234983937|RT @WhiteHouse: P...|        t|        f|Twitter for iPhone|        0|   25048|2020-01-17 00:11:56|\n",
            "|1315779944002199552|“I’m running as a...|        f|        f|Twitter for iPhone|   149007|   34897|2020-10-12 22:22:39|\n",
            "|1223640662689689602|Getting a little ...|        f|        f|Twitter for iPhone|   285863|   30209|2020-02-01 16:14:02|\n",
            "|1319501865625784320|https://t.co/4qwC...|        f|        f|Twitter for iPhone|   130822|   19127|2020-10-23 04:52:14|\n",
            "|1319500520126664705|https://t.co/VlEu...|        f|        f|Twitter for iPhone|   153446|   20275|2020-10-23 04:46:53|\n",
            "|1319500501269041154|https://t.co/z5CR...|        f|        f|Twitter for iPhone|   102150|   14815|2020-10-23 04:46:49|\n",
            "|1319500486370877440|https://t.co/TQCQ...|        f|        f|Twitter for iPhone|   255804|   35594|2020-10-23 04:46:45|\n",
            "|1319496349092511744|RT @EricTrump: ht...|        t|        f|Twitter for iPhone|        0|    8921|2020-10-23 04:30:19|\n",
            "|1236502342121541632|RT @GOPChairwoman...|        t|        f|Twitter for iPhone|        0|    8681|2020-03-08 04:01:46|\n",
            "|1225835449379258368|RT @TomFitton: Vi...|        t|        f|Twitter for iPhone|        0|    7679|2020-02-07 17:35:20|\n",
            "|1215247978966986752|Thank you Elise! ...|        f|        f|Twitter for iPhone|    48510|   11608|2020-01-09 12:24:31|\n",
            "|1319491234042269696|As per your reque...|        f|        f|Twitter for iPhone|   253761|   79855|2020-10-23 04:09:59|\n",
            "|1319488376202878977|RT @marklevinshow...|        t|        f|Twitter for iPhone|        0|   21259|2020-10-23 03:58:38|\n",
            "|1319488152180961285|RT @RealRLimbaugh...|        t|        f|Twitter for iPhone|        0|   19039|2020-10-23 03:57:45|\n",
            "|1319683876046934016|HUGE win today fo...|        f|        f|Twitter for iPhone|   215994|   51830|2020-10-23 16:55:29|\n",
            "+-------------------+--------------------+---------+---------+------------------+---------+--------+-------------------+\n",
            "only showing top 20 rows\n",
            "\n"
          ],
          "name": "stdout"
        }
      ]
    },
    {
      "cell_type": "code",
      "metadata": {
        "id": "pjrFCjikinhn"
      },
      "source": [
        "df.createOrReplaceTempView('tbl')"
      ],
      "execution_count": 9,
      "outputs": []
    },
    {
      "cell_type": "code",
      "metadata": {
        "colab": {
          "base_uri": "https://localhost:8080/"
        },
        "id": "YVnDp647vLDL",
        "outputId": "b12ae3e2-4a27-45ad-fbf9-c477a404c843"
      },
      "source": [
        "resultados_full = spark.sql(\"SELECT * FROM tbl where isRetweet = 'f'\")\n",
        "resultados_full.show()"
      ],
      "execution_count": 84,
      "outputs": [
        {
          "output_type": "stream",
          "text": [
            "+-------------------+--------------------+---------+---------+------------------+---------+--------+-------------------+\n",
            "|                 id|                text|isRetweet|isDeleted|            device|favorites|retweets|               date|\n",
            "+-------------------+--------------------+---------+---------+------------------+---------+--------+-------------------+\n",
            "|  98454970654916608|Republicans and D...|        f|        f|         TweetDeck|       49|     255|2011-08-02 18:07:48|\n",
            "|1234653427789070336|I was thrilled to...|        f|        f|Twitter for iPhone|    73748|   17404|2020-03-03 01:34:50|\n",
            "|1304875170860015617|The Unsolicited M...|        f|        f|Twitter for iPhone|    80527|   23502|2020-09-12 20:10:58|\n",
            "|1315779944002199552|“I’m running as a...|        f|        f|Twitter for iPhone|   149007|   34897|2020-10-12 22:22:39|\n",
            "|1223640662689689602|Getting a little ...|        f|        f|Twitter for iPhone|   285863|   30209|2020-02-01 16:14:02|\n",
            "|1319501865625784320|https://t.co/4qwC...|        f|        f|Twitter for iPhone|   130822|   19127|2020-10-23 04:52:14|\n",
            "|1319500520126664705|https://t.co/VlEu...|        f|        f|Twitter for iPhone|   153446|   20275|2020-10-23 04:46:53|\n",
            "|1319500501269041154|https://t.co/z5CR...|        f|        f|Twitter for iPhone|   102150|   14815|2020-10-23 04:46:49|\n",
            "|1319500486370877440|https://t.co/TQCQ...|        f|        f|Twitter for iPhone|   255804|   35594|2020-10-23 04:46:45|\n",
            "|1215247978966986752|Thank you Elise! ...|        f|        f|Twitter for iPhone|    48510|   11608|2020-01-09 12:24:31|\n",
            "|1319491234042269696|As per your reque...|        f|        f|Twitter for iPhone|   253761|   79855|2020-10-23 04:09:59|\n",
            "|1319683876046934016|HUGE win today fo...|        f|        f|Twitter for iPhone|   215994|   51830|2020-10-23 16:55:29|\n",
            "|1319655865083940865|Thank you Megyn! ...|        f|        f|Twitter for iPhone|   178163|   24864|2020-10-23 15:04:10|\n",
            "|1319510534098735106|11 DAYS! #MAGA ht...|        f|        f|Twitter for iPhone|   197604|   49800|2020-10-23 05:26:41|\n",
            "|1320095628546899968|Nobody is showing...|        f|        f|Twitter for iPhone|   195826|   33517|2020-10-24 20:11:38|\n",
            "|1320096006038380544|Just landed in Oh...|        f|        f|Twitter for iPhone|   139153|   14000|2020-10-24 20:13:08|\n",
            "|1291061411167252483|https://t.co/NX5z...|        f|        f|Twitter for iPhone|    28711|    8085|2020-08-05 17:20:01|\n",
            "|1320134156035174405|THANK YOU OHIO! #...|        f|        f|Twitter for iPhone|    57305|    9852|2020-10-24 22:44:44|\n",
            "|1320135665242284033|Great to be in Oh...|        f|        f|Twitter for iPhone|   133279|   19715|2020-10-24 22:50:44|\n",
            "|1320135903831089152|https://t.co/lw73...|        f|        f|Twitter for iPhone|    45137|    8845|2020-10-24 22:51:41|\n",
            "+-------------------+--------------------+---------+---------+------------------+---------+--------+-------------------+\n",
            "only showing top 20 rows\n",
            "\n"
          ],
          "name": "stdout"
        }
      ]
    },
    {
      "cell_type": "code",
      "metadata": {
        "id": "uGu5Dax5i1kb"
      },
      "source": [
        "#pegando textos do Trump\n",
        "resultados = spark.sql(\"SELECT replace(text,'@','') as text FROM tbl where isRetweet = 'f' and text not like '%http%' \")"
      ],
      "execution_count": 115,
      "outputs": []
    },
    {
      "cell_type": "code",
      "metadata": {
        "colab": {
          "base_uri": "https://localhost:8080/"
        },
        "id": "FkUdLICHjJWS",
        "outputId": "643b22a5-7f4a-4986-81c8-08a19e04679b"
      },
      "source": [
        "resultados.show(500)"
      ],
      "execution_count": 116,
      "outputs": [
        {
          "output_type": "stream",
          "text": [
            "+--------------------+\n",
            "|                text|\n",
            "+--------------------+\n",
            "|Republicans and D...|\n",
            "|The Unsolicited M...|\n",
            "|“I’m running as a...|\n",
            "|Nobody is showing...|\n",
            "|Just landed in Oh...|\n",
            "|Landed in Wiscons...|\n",
            "|Debate Poll Avera...|\n",
            "|Our Economy is do...|\n",
            "|The Fake News is ...|\n",
            "|...I could not si...|\n",
            "|...For years, I w...|\n",
            "|Joe Biden is a co...|\n",
            "|On the 37th anniv...|\n",
            "|Joe Biden’s respo...|\n",
            "|.SeanParnellUSA i...|\n",
            "|So important to V...|\n",
            "|Pennsylvania Ball...|\n",
            "|Have a GREAT “MAG...|\n",
            "|Congratulations t...|\n",
            "|Congratulations t...|\n",
            "|Biden made anothe...|\n",
            "|There is a nasty ...|\n",
            "|Big T was not a r...|\n",
            "|Steve Scully of c...|\n",
            "|Very good reviews...|\n",
            "|Polls numbers are...|\n",
            "|Sleepy Joe Biden ...|\n",
            "|          OBAMAGATE!|\n",
            "|“A Pennsylvania A...|\n",
            "|$13.9M is heading...|\n",
            "|Just don’t see an...|\n",
            "|...P.S. Tony shou...|\n",
            "|Dr.Tony Fauci say...|\n",
            "|GREAT news! New g...|\n",
            "|Heading for Arizo...|\n",
            "|Last week, Joe Bi...|\n",
            "|....There has nev...|\n",
            "|maggieNYT  There ...|\n",
            "|Will be interview...|\n",
            "|Heading for Tucso...|\n",
            "|....Washington wa...|\n",
            "|Governor Cuomo ha...|\n",
            "|Congressman Ken B...|\n",
            "|...Everyone shoul...|\n",
            "|.FoxNews Polls ar...|\n",
            "|....to be around ...|\n",
            "|The GREAT Bobby B...|\n",
            "|Quick stop in Nor...|\n",
            "|Joe Biden called ...|\n",
            "|We have made trem...|\n",
            "|Three BIG Rallies...|\n",
            "|MAKE AMERICA GREA...|\n",
            "|We are winning bi...|\n",
            "|...Based on decis...|\n",
            "|Big problems and ...|\n",
            "|Cases up because ...|\n",
            "|The Fake News Med...|\n",
            "|No matter what yo...|\n",
            "|New York, Califor...|\n",
            "|Strongly Trending...|\n",
            "|Biden’s Handler’s...|\n",
            "|Philadelpiha MUST...|\n",
            "|ALL THE FAKE NEWS...|\n",
            "|           7 DAYS!!!|\n",
            "|MAKE AMERICA GREA...|\n",
            "|BIG VICTORY for p...|\n",
            "|       HAPPY EASTER!|\n",
            "|Much more “disinf...|\n",
            "|WATCH THE BALLOTS!!!|\n",
            "|NEW RECORD FOR NA...|\n",
            "|Crazy Bernie Sand...|\n",
            "|When are the thug...|\n",
            "|Three BIG Rallies...|\n",
            "|Corrupt Joe Biden...|\n",
            "|Until November 4t...|\n",
            "|    LAW &amp; ORDER!|\n",
            "|Big GDP projected...|\n",
            "|3% up in Pennsylv...|\n",
            "|Thank you very mu...|\n",
            "|Death rate of peo...|\n",
            "|Obama is drawing ...|\n",
            "|The biggest diffe...|\n",
            "|They (his handler...|\n",
            "|Now FoxNews is pl...|\n",
            "|Joe Biden FAILED ...|\n",
            "|3 Points up in Mi...|\n",
            "|Joe Biden is a co...|\n",
            "|Under my leadersh...|\n",
            "|We are spending m...|\n",
            "|I am pleased to i...|\n",
            "|“Stock Markets wi...|\n",
            "|To the great peop...|\n",
            "|As a developer lo...|\n",
            "|Covid, Covid, Cov...|\n",
            "|It’s amazing. Twi...|\n",
            "|The USA doesn’t h...|\n",
            "|Media and Big Tec...|\n",
            "|Why isn’t Twitter...|\n",
            "|....associated wi...|\n",
            "|Who is Miles Tayl...|\n",
            "|I am proud to ann...|\n",
            "|Nobody fights har...|\n",
            "|The Democrats, to...|\n",
            "|Congratulations t...|\n",
            "|Why isn’t Biden c...|\n",
            "|Coronavirus: In a...|\n",
            "|Mini Mike Bloombe...|\n",
            "|Just spoke to my ...|\n",
            "|MAKE AMERICA GREA...|\n",
            "|Thank you for the...|\n",
            "|THESE NUMBERS ARE...|\n",
            "|Hope Hicks, who h...|\n",
            "|This is an AMAZIN...|\n",
            "|Thank you to Dave...|\n",
            "|Really Big Jobs R...|\n",
            "|GDP number just a...|\n",
            "|If the Wall Stree...|\n",
            "|Our hearts are wi...|\n",
            "|....He also worke...|\n",
            "|So it turns out t...|\n",
            "|Weekly Jobless Cl...|\n",
            "|A 3 day extension...|\n",
            "|Forced to move ou...|\n",
            "|Failed RINO forme...|\n",
            "|My Administration...|\n",
            "|The Fake News ref...|\n",
            "|The Fake News ref...|\n",
            "|“Defunding Police...|\n",
            "|New York City ind...|\n",
            "|Sending out 80 MI...|\n",
            "|Obama worked hard...|\n",
            "|Obama is lucky he...|\n",
            "|Bob Woodward had ...|\n",
            "|Democrats, OPEN T...|\n",
            "|The Democrats nev...|\n",
            "|Homeland Security...|\n",
            "| Way ahead in Texas!|\n",
            "|Watch the Great R...|\n",
            "|With the exceptio...|\n",
            "|MAKE AMERICA GREA...|\n",
            "|RebaForever58   Yes.|\n",
            "|  #BidenCrimeFamiily|\n",
            "|There is TREMENDO...|\n",
            "|I will be intervi...|\n",
            "|Biden will destro...|\n",
            "|sbowlin1  Thanks-...|\n",
            "|RevRome83 CelebAp...|\n",
            "|If Sleepy Joe Bid...|\n",
            "|More Testing equa...|\n",
            "|The nytimes now a...|\n",
            "|33.1% GDP - BEST ...|\n",
            "|      SUPREME COURT!|\n",
            "|   SECOND AMENDMENT!|\n",
            "|I would NEVER hav...|\n",
            "|Biden wants the b...|\n",
            "|WandaSalley  Than...|\n",
            "|...Disasters. At ...|\n",
            "|Biden’s speech is...|\n",
            "|...a cheerleader ...|\n",
            "|bf2088 Thanks--an...|\n",
            "|MichaelRubinton W...|\n",
            "|     utxgent  Thanks|\n",
            "|The Election shou...|\n",
            "| SpencerLJackson ...|\n",
            "|President Obama u...|\n",
            "|...Biden’s deadly...|\n",
            "|Biden has pledged...|\n",
            "|MAKE AMERICA GREA...|\n",
            "|“A Biden win woul...|\n",
            "|Suburban Women ar...|\n",
            "|Joe Biden spent t...|\n",
            "|“President Obama ...|\n",
            "|I paid many milli...|\n",
            "|Joe Biden will PA...|\n",
            "|Biden and the Rad...|\n",
            "|Big win for our v...|\n",
            "|Gallup: 56% of th...|\n",
            "|Last night, our C...|\n",
            "|Will be making a ...|\n",
            "|Biden &amp; Obama...|\n",
            "|Thank you to the ...|\n",
            "|Just signed an or...|\n",
            "|mrdemain27 Thanks...|\n",
            "|Dr. Mariannette M...|\n",
            "|People have long ...|\n",
            "|Our numbers are l...|\n",
            "|When I originally...|\n",
            "|...The place was ...|\n",
            "|Joe Biden called ...|\n",
            "|Biden wants to LO...|\n",
            "|....all I needed,...|\n",
            "|The legendary act...|\n",
            "|Joe Biden constan...|\n",
            "| rrpsllc  Thank you.|\n",
            "|Biden is a proven...|\n",
            "|Chris Wallace of ...|\n",
            "|Michigan was GREA...|\n",
            "|     Thank you Iowa!|\n",
            "|Biden did a very ...|\n",
            "|       905K9 Thanks.|\n",
            "|Pennsylvania: Bid...|\n",
            "|Jon_dennis82 Reds...|\n",
            "|For decades, Joe ...|\n",
            "|Joe Biden is the ...|\n",
            "|Biden will termin...|\n",
            "| ewilli1204  Thanks!|\n",
            "|Alan_Saranga Thanks.|\n",
            "|Remember, Third Q...|\n",
            "|  mathewaiken Great!|\n",
            "|Biden will repeal...|\n",
            "|Getting ready to ...|\n",
            "|TylerKrist734  Th...|\n",
            "|MAKE AMERICA GREA...|\n",
            "|PeterThiele  Than...|\n",
            "|...As I said at t...|\n",
            "|Just learned that...|\n",
            "|Landing in North ...|\n",
            "|Texas, Pennsylvan...|\n",
            "|Biden was a pathe...|\n",
            "|“No President in ...|\n",
            "|I PREPAID Million...|\n",
            "|Every corrupt for...|\n",
            "|Biden can never n...|\n",
            "|...our noble hist...|\n",
            "|...that killed ou...|\n",
            "|We have more Case...|\n",
            "|   ajshaw1003 Great!|\n",
            "|Biden NEVER named...|\n",
            "|Biden will RAISE ...|\n",
            "|The Depraved Swam...|\n",
            "|Just signed an or...|\n",
            "|Landing in Scrant...|\n",
            "|I gave Maine ever...|\n",
            "|TheRealKurse     ...|\n",
            "|...He was a cheer...|\n",
            "|Joe Biden is a gl...|\n",
            "|Joe Biden is prom...|\n",
            "|As Christians thr...|\n",
            "|Just landed in Tr...|\n",
            "|Joe Biden would i...|\n",
            "|A vote for Joe Bi...|\n",
            "|For 47 years, Joe...|\n",
            "|The Supreme Court...|\n",
            "|Itsyknowsbest Tha...|\n",
            "|Our prayers are w...|\n",
            "|  Colvio117  Thanks!|\n",
            "|       piano807 Wow!|\n",
            "|TheNordicBroad Th...|\n",
            "|WE ARE LOOKING RE...|\n",
            "|We are up BIG, bu...|\n",
            "|I will be making ...|\n",
            "|We are up BIG, bu...|\n",
            "|Last night I was ...|\n",
            "|How come every ti...|\n",
            "|        __Jibz True!|\n",
            "|They are finding ...|\n",
            "|They are working ...|\n",
            "|Wow! It looks lik...|\n",
            "|We are winning Pe...|\n",
            "|.....there was a ...|\n",
            "|We have claimed, ...|\n",
            "|Our lawyers have ...|\n",
            "|     STOP THE COUNT!|\n",
            "|ANY VOTE THAT CAM...|\n",
            "|Big legal win in ...|\n",
            "|All of the recent...|\n",
            "|     STOP THE FRAUD!|\n",
            "|Shopgirlusa. Good...|\n",
            "|News Conference a...|\n",
            "|  mandielaurin Good!|\n",
            "|So now the Democr...|\n",
            "|Twitter is out of...|\n",
            "|I easily WIN the ...|\n",
            "|“Philadelpiha has...|\n",
            "|....has been able...|\n",
            "|....hopefully thi...|\n",
            "|....Legislature. ...|\n",
            "|“This is what we ...|\n",
            "|  moogoo3544 Thanks.|\n",
            "|With the attack b...|\n",
            "|Where are the mis...|\n",
            "|ridetheory  Horse...|\n",
            "|LynnFiorenzano Th...|\n",
            "|SecurityLecture  ...|\n",
            "|    Seame_huntin EST|\n",
            "|\"\"\"\"\"\"\"shmopnigga...|\n",
            "|\"\"\"\"\"\"\"bunnypiper...|\n",
            "|SECURE THE BORDER...|\n",
            "|\"\"\"\"\"\"\"NicolasTet...|\n",
            "|Tea Party takes d...|\n",
            "|\"\"\"\"\"\"\"DavidHyre:...|\n",
            "|loveandgarbage  N...|\n",
            "|dualheadedeagle  ...|\n",
            "|.donlemon on CNN ...|\n",
            "|\"\"\"\"\"\"\"TheConnieM...|\n",
            "|\"\"\"\"\"\"\"enzotorin ...|\n",
            "|Let's go! #CelebA...|\n",
            "|.JuddApatow I agree!|\n",
            "|Just met with Gen...|\n",
            "|Just landed in Io...|\n",
            "|Will be on foxand...|\n",
            "|Mexico will pay f...|\n",
            "|Landing in Phoeni...|\n",
            "|MAKE AMERICA GREA...|\n",
            "|Watch AC360 on NO...|\n",
            "|MAKE AMERICA GREA...|\n",
            "|U.S. Stock Market...|\n",
            "|Thank you to Shaw...|\n",
            "|Great night in Io...|\n",
            "|MAKE AMERICA GREA...|\n",
            "|My daughter, Ivan...|\n",
            "|The Fake Media is...|\n",
            "|Thank you Lake Wo...|\n",
            "|Congratulations t...|\n",
            "|    Merry Christmas!|\n",
            "|         WITCH HUNT!|\n",
            "|China talks are g...|\n",
            "|      AMERICA FIRST!|\n",
            "|Really big jobs m...|\n",
            "|A complete Witch ...|\n",
            "|         WITCH HUNT!|\n",
            "|“House Democrats ...|\n",
            "|         WITCH HUNT!|\n",
            "|95% Approval Rati...|\n",
            "| KEEP AMERICA GREAT!|\n",
            "|Where’s the Fake ...|\n",
            "| HAPPY VETERANS DAY!|\n",
            "| KEEP AMERICA GREAT!|\n",
            "|Looking forward t...|\n",
            "| KEEP AMERICA GREAT!|\n",
            "|PRESIDENTIAL HARA...|\n",
            "|    DRAIN THE SWAMP!|\n",
            "|Making Daylight S...|\n",
            "|Great analysis by...|\n",
            "|      AMERICA FIRST!|\n",
            "|....The Fake News...|\n",
            "|...The Fake News ...|\n",
            "|....very often FA...|\n",
            "|Australia’s Centr...|\n",
            "|Mini Mike Bloombe...|\n",
            "|RussVought45 Mark...|\n",
            "|RT twytter14: tas...|\n",
            "|....of gang membe...|\n",
            "|RT seanhannity: T...|\n",
            "|With Caravans mar...|\n",
            "|Very sadly, Murde...|\n",
            "|Never thought I’d...|\n",
            "|RT ChatByCC: Stro...|\n",
            "|RT CarmineZozzora...|\n",
            "|Remember, BIDEN i...|\n",
            "|Your 401k’s will ...|\n",
            "|....Should take c...|\n",
            "|Good for the cons...|\n",
            "|Few people have e...|\n",
            "|....BUT THE BEST ...|\n",
            "|Elizabeth “Pocaho...|\n",
            "|Judiciary Committ...|\n",
            "|Play College Foot...|\n",
            "|    LAW &amp; ORDER!|\n",
            "|MAKE AMERICA GREA...|\n",
            "|News Conference a...|\n",
            "|Really Big Breaki...|\n",
            "|Thank you to mira...|\n",
            "|“We demand fairne...|\n",
            "|The ramp that I d...|\n",
            "|Many of the ads y...|\n",
            "|“Nancy Pelosi sai...|\n",
            "|DIRTY COP JAMES C...|\n",
            "|So last year 37,0...|\n",
            "|I am a great frie...|\n",
            "|Thank you very mu...|\n",
            "|Mini Mike is now ...|\n",
            "|“They tried to Im...|\n",
            "|For the people th...|\n",
            "|Biden said he is ...|\n",
            "|Joe Biden was ver...|\n",
            "|In light of the a...|\n",
            "|All the Radical L...|\n",
            "|The number of Cor...|\n",
            "|The LameStream Me...|\n",
            "|NASDAQ HITS ALL-T...|\n",
            "|One of the reason...|\n",
            "|.....least 5 Stat...|\n",
            "|....very often FA...|\n",
            "|Wow. Today’s nypo...|\n",
            "|We should have th...|\n",
            "|My highly regarde...|\n",
            "|Biden supports Co...|\n",
            "|JUST VOTED. A gre...|\n",
            "|Biden wants to Pa...|\n",
            "|Obama is campaign...|\n",
            "|Finally! Suburban...|\n",
            "|Just spoke with P...|\n",
            "|Will be doing a p...|\n",
            "|I commend the har...|\n",
            "|ENJOY THE GAME US...|\n",
            "|Mitt Romney did g...|\n",
            "|The Fannie and Fr...|\n",
            "|He is out of real...|\n",
            "|The SuperCommitte...|\n",
            "|Instead of trash ...|\n",
            "|America should no...|\n",
            "|Some OWS proteste...|\n",
            "|GregE_IoM. Only i...|\n",
            "|workplayeat   Tha...|\n",
            "|CraigHeff   I don...|\n",
            "|Sugar is nowhere ...|\n",
            "|sarahluvnyc   Tha...|\n",
            "|Subhana_Anwar   I...|\n",
            "|\"\"\"\"\"\"\"Ozziemae: ...|\n",
            "|carlyvowell   Tel...|\n",
            "|\"\"\"\"\"\"\"DSlagle132...|\n",
            "|JedediahBila  Tel...|\n",
            "|omegaphoenix068  ...|\n",
            "|\"\"\"\"\"\"\"piersmorga...|\n",
            "|I'm watching Knic...|\n",
            "|Why didn't Presid...|\n",
            "|The LIVE FINALE o...|\n",
            "|Republicans will ...|\n",
            "|Interesting? By C...|\n",
            "|MAKE AMERICA GREA...|\n",
            "|Joe Biden = Bigge...|\n",
            "|      AMERICA FIRST!|\n",
            "|The more you lear...|\n",
            "|Here we go again,...|\n",
            "|Such Fake reporti...|\n",
            "|My decision to ap...|\n",
            "|....It has now be...|\n",
            "|ALERT: So now we ...|\n",
            "|The Radical Left,...|\n",
            "|.CNN has no sourc...|\n",
            "|They are staging ...|\n",
            "|Democrats = 17 Wi...|\n",
            "|I am allocating $...|\n",
            "|The Democrat Part...|\n",
            "|Sally Yates has z...|\n",
            "|What’s going on, ...|\n",
            "|Was Andy McCabe e...|\n",
            "|Sleepy Joe Biden ...|\n",
            "|به مردم شجاع و رن...|\n",
            "|NORTH CAROLINA: T...|\n",
            "|Republicans shoul...|\n",
            "|Relief is on the ...|\n",
            "|No matter what yo...|\n",
            "|Great work in the...|\n",
            "|Iowa and New Hamp...|\n",
            "|The only reason t...|\n",
            "|Subject only to S...|\n",
            "|The World Health ...|\n",
            "|The government of...|\n",
            "|Heading to Florid...|\n",
            "|Every time you se...|\n",
            "|Biden losing big ...|\n",
            "|All that time and...|\n",
            "|I JUST GOT IMPEAC...|\n",
            "|The Democrats in ...|\n",
            "|.FoxNews allows m...|\n",
            "|The farmers are r...|\n",
            "|So much of the La...|\n",
            "|Pelosi doesn’t wa...|\n",
            "|Getting ready to ...|\n",
            "|We have now learn...|\n",
            "|New York State is...|\n",
            "|One of the greate...|\n",
            "|“For the first ti...|\n",
            "|دولت ایران باید ب...|\n",
            "|Texas &amp; Oklah...|\n",
            "|Another win just ...|\n",
            "|Great statement t...|\n",
            "|“Cities across th...|\n",
            "|I am giving consi...|\n",
            "|We have a perfect...|\n",
            "|Incredible!  FoxN...|\n",
            "|....always contin...|\n",
            "|I was very surpri...|\n",
            "|The New York Time...|\n",
            "|A very big CONGRA...|\n",
            "|New book by charl...|\n",
            "|...history of Win...|\n",
            "|...Our history as...|\n",
            "|  On my way, Nevada!|\n",
            "|Had a very good m...|\n",
            "|Great interview w...|\n",
            "|Mini Mike Bloombe...|\n",
            "|“There is no crim...|\n",
            "|Cryin’ Chuck Schu...|\n",
            "|Sally Yates is ei...|\n",
            "|It has been sugge...|\n",
            "|Hispanics seem to...|\n",
            "|I am sending $219...|\n",
            "|Big $$$$ headed t...|\n",
            "|....Federal Gover...|\n",
            "|On the recommenda...|\n",
            "|....Joe Biden, an...|\n",
            "|They are rigging ...|\n",
            "|The Federal Reser...|\n",
            "|Your 2nd Amendmen...|\n",
            "|Great Florida Ral...|\n",
            "|The Federal Reser...|\n",
            "|Happy Birthday to...|\n",
            "+--------------------+\n",
            "only showing top 500 rows\n",
            "\n"
          ],
          "name": "stdout"
        }
      ]
    },
    {
      "cell_type": "code",
      "metadata": {
        "id": "UhUoq0fhjgS7"
      },
      "source": [
        "dados = resultados.collect()"
      ],
      "execution_count": 117,
      "outputs": []
    },
    {
      "cell_type": "code",
      "metadata": {
        "colab": {
          "base_uri": "https://localhost:8080/"
        },
        "id": "YRF3xozEjmkL",
        "outputId": "424b3e25-458d-42e9-86b7-dda9395f6847"
      },
      "source": [
        "type(dados)"
      ],
      "execution_count": 118,
      "outputs": [
        {
          "output_type": "execute_result",
          "data": {
            "text/plain": [
              "list"
            ]
          },
          "metadata": {
            "tags": []
          },
          "execution_count": 118
        }
      ]
    },
    {
      "cell_type": "code",
      "metadata": {
        "colab": {
          "base_uri": "https://localhost:8080/"
        },
        "id": "bUiHw98LjybJ",
        "outputId": "a873ed54-4d9e-4dec-99a9-119dede96ab3"
      },
      "source": [
        "tamanho = len(dados)\n",
        "tamanho"
      ],
      "execution_count": 119,
      "outputs": [
        {
          "output_type": "execute_result",
          "data": {
            "text/plain": [
              "29562"
            ]
          },
          "metadata": {
            "tags": []
          },
          "execution_count": 119
        }
      ]
    },
    {
      "cell_type": "code",
      "metadata": {
        "colab": {
          "base_uri": "https://localhost:8080/",
          "height": 52
        },
        "id": "wtGUCI7rvgmf",
        "outputId": "690d82c6-77d3-4161-c017-bf7f03a24b49"
      },
      "source": [
        "txt = dados[1]['text']\n",
        "txt"
      ],
      "execution_count": 120,
      "outputs": [
        {
          "output_type": "execute_result",
          "data": {
            "application/vnd.google.colaboratory.intrinsic+json": {
              "type": "string"
            },
            "text/plain": [
              "'The Unsolicited Mail In Ballot Scam is a major threat to our Democracy, &amp; the Democrats know it. Almost all recent elections using this system, even though much smaller &amp;  with far fewer Ballots to count, have ended up being a disaster. Large numbers of missing Ballots &amp; Fraud!'"
            ]
          },
          "metadata": {
            "tags": []
          },
          "execution_count": 120
        }
      ]
    },
    {
      "cell_type": "markdown",
      "metadata": {
        "id": "nay2_Ib2vg1L"
      },
      "source": [
        "# Aplicando Vader sentiment analysis"
      ]
    },
    {
      "cell_type": "markdown",
      "metadata": {
        "id": "nSMUy2u4vvvr"
      },
      "source": [
        "De forma resumida, o vader trás a polaridade de uma frase, podendo ser negativa, positiva ou neutra.\n",
        "É especialmente treinado para analisar textos de mídias sociais (inglês)"
      ]
    },
    {
      "cell_type": "code",
      "metadata": {
        "colab": {
          "base_uri": "https://localhost:8080/"
        },
        "id": "T3T6rRz0x5tO",
        "outputId": "b61013aa-2925-4d1c-812f-2c0bde8ebd95"
      },
      "source": [
        "!pip install vaderSentiment"
      ],
      "execution_count": 53,
      "outputs": [
        {
          "output_type": "stream",
          "text": [
            "Collecting vaderSentiment\n",
            "  Using cached https://files.pythonhosted.org/packages/76/fc/310e16254683c1ed35eeb97386986d6c00bc29df17ce280aed64d55537e9/vaderSentiment-3.3.2-py2.py3-none-any.whl\n",
            "Requirement already satisfied: requests in /usr/local/lib/python3.6/dist-packages (from vaderSentiment) (2.23.0)\n",
            "Requirement already satisfied: certifi>=2017.4.17 in /usr/local/lib/python3.6/dist-packages (from requests->vaderSentiment) (2020.11.8)\n",
            "Requirement already satisfied: urllib3!=1.25.0,!=1.25.1,<1.26,>=1.21.1 in /usr/local/lib/python3.6/dist-packages (from requests->vaderSentiment) (1.24.3)\n",
            "Requirement already satisfied: chardet<4,>=3.0.2 in /usr/local/lib/python3.6/dist-packages (from requests->vaderSentiment) (3.0.4)\n",
            "Requirement already satisfied: idna<3,>=2.5 in /usr/local/lib/python3.6/dist-packages (from requests->vaderSentiment) (2.10)\n",
            "Installing collected packages: vaderSentiment\n",
            "Successfully installed vaderSentiment-3.3.2\n"
          ],
          "name": "stdout"
        }
      ]
    },
    {
      "cell_type": "code",
      "metadata": {
        "id": "CuvrZAiux6AP"
      },
      "source": [
        "from vaderSentiment.vaderSentiment import SentimentIntensityAnalyzer\n",
        "analyser = SentimentIntensityAnalyzer()"
      ],
      "execution_count": 54,
      "outputs": []
    },
    {
      "cell_type": "code",
      "metadata": {
        "id": "TBjRT7eOyKTp"
      },
      "source": [
        "def sentiment_analyzer_scores(sentence):\n",
        "    score = analyser.polarity_scores(sentence)\n",
        "    print(\"{:-<40} {}\".format(sentence, str(score)))"
      ],
      "execution_count": 55,
      "outputs": []
    },
    {
      "cell_type": "code",
      "metadata": {
        "id": "nZv76clRy2G9"
      },
      "source": [
        "def score_compound(sentence):\n",
        "    score = analyser.polarity_scores(sentence)\n",
        "    print(score)\n",
        " "
      ],
      "execution_count": 60,
      "outputs": []
    },
    {
      "cell_type": "code",
      "metadata": {
        "colab": {
          "base_uri": "https://localhost:8080/"
        },
        "id": "BdHppzUK4DxV",
        "outputId": "2c5a3ecd-1fbd-448b-f617-100a9bad3fee"
      },
      "source": [
        "res1 = sentiment_analyzer_scores(dados[0]['text'])"
      ],
      "execution_count": 83,
      "outputs": [
        {
          "output_type": "stream",
          "text": [
            "RT @GOPChairwoman: The economic boom continues! 273K jobs added in February 7M+ jobs added since @realDonaldTrump was elected Unemploym… {'neg': 0.0, 'neu': 1.0, 'pos': 0.0, 'compound': 0.0}\n"
          ],
          "name": "stdout"
        }
      ]
    },
    {
      "cell_type": "code",
      "metadata": {
        "colab": {
          "base_uri": "https://localhost:8080/"
        },
        "id": "O1sW0Ugq4Vzd",
        "outputId": "3e66b552-8d60-4c17-b5cc-76be8d9a7f19"
      },
      "source": [
        "res2 = score_compound(dados[0]['text'])"
      ],
      "execution_count": 109,
      "outputs": [
        {
          "output_type": "stream",
          "text": [
            "{'neg': 0.231, 'neu': 0.598, 'pos': 0.171, 'compound': -0.1779}\n"
          ],
          "name": "stdout"
        }
      ]
    },
    {
      "cell_type": "code",
      "metadata": {
        "id": "YlbOXNOjjrGG"
      },
      "source": [
        "vet = []\n",
        "i = 0\n",
        "while i < tamanho:\n",
        "\n",
        "  vet.append(analyser.polarity_scores(dados[i]['text']))\n",
        "  #print(dados[i]['text'])\n",
        "  #print(vet)\n",
        "  i+=1\n",
        "\n"
      ],
      "execution_count": 121,
      "outputs": []
    },
    {
      "cell_type": "code",
      "metadata": {
        "id": "Fo1_TZSHzZke"
      },
      "source": [
        "len_vet = len(vet)\n",
        "sum = 0\n",
        "j = 0\n",
        "while j < len_vet:\n",
        "  sum += vet[j]['compound']\n",
        "  \n",
        "  j+=1\n"
      ],
      "execution_count": 122,
      "outputs": []
    },
    {
      "cell_type": "code",
      "metadata": {
        "colab": {
          "base_uri": "https://localhost:8080/"
        },
        "id": "HUfiEd9H2F3w",
        "outputId": "e086961a-63ef-4ba4-e2da-d67a059d4689"
      },
      "source": [
        "print(f'Compound total = {sum}')\n",
        "print(f'Compound médio = {sum/len_vet}')"
      ],
      "execution_count": 123,
      "outputs": [
        {
          "output_type": "stream",
          "text": [
            "Compound total = 6011.615600000103\n",
            "Compound médio = 0.20335618699682373\n"
          ],
          "name": "stdout"
        }
      ]
    },
    {
      "cell_type": "code",
      "metadata": {
        "colab": {
          "base_uri": "https://localhost:8080/"
        },
        "id": "5Wc4ZEP69lqL",
        "outputId": "2902bb88-083f-44c7-bfb9-bbd97a411286"
      },
      "source": [
        "len_vet = len(vet)\n",
        "sum_neg = 0\n",
        "sum_neu = 0\n",
        "sum_pos = 0\n",
        "\n",
        "j = 0\n",
        "while j < len_vet:\n",
        "  sum_neg += vet[j]['neg']\n",
        "  sum_neu += vet[j]['neu']\n",
        "  sum_pos += vet[j]['pos']\n",
        "  \n",
        "  j+=1\n",
        "print(sum_neg/len_vet, sum_neu/len_vet, sum_pos/len_vet)"
      ],
      "execution_count": 124,
      "outputs": [
        {
          "output_type": "stream",
          "text": [
            "0.08029402611460656 0.7291060821324681 0.19059935051755636\n"
          ],
          "name": "stdout"
        }
      ]
    },
    {
      "cell_type": "markdown",
      "metadata": {
        "id": "6tmVJ9wA838I"
      },
      "source": [
        "## Conclusão"
      ]
    },
    {
      "cell_type": "markdown",
      "metadata": {
        "id": "F5TPwWev2HZ-"
      },
      "source": [
        "![image.png](data:image/png;base64,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)"
      ]
    },
    {
      "cell_type": "markdown",
      "metadata": {
        "id": "jEmP-28J24pG"
      },
      "source": [
        "Compound é uma métrica própria do Vader para verificar a polaridade da frase, conforme a imagem acima.\n",
        "Com um score médio de 0.18 aproximadamente, é possivel concluir que os Tweets do Trump são de forma geral positivos, para minha surpresa.\n",
        "\n",
        "Provavelmente com tratamentos de textos o resultado seria melhor (mais preciso)"
      ]
    },
    {
      "cell_type": "markdown",
      "metadata": {
        "id": "T5WjDet82h4I"
      },
      "source": [
        "# Referências bibliográficas\n",
        "https://medium.com/analytics-vidhya/simplifying-social-media-sentiment-analysis-using-vader-in-python-f9e6ec6fc52f"
      ]
    }
  ]
}